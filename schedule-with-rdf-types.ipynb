{
 "cells": [
  {
   "cell_type": "markdown",
   "metadata": {},
   "source": [
    "# Notebook για την παραγωγή των δεδομένων N-Triples (εργασία μαθήματος).\n",
    "\n",
    "Χρησιμοποιήστε κώδικα από τα notebooks προηγούμενων εργαστηρίων με τις κατάλληλες αλλαγές για να συμπληρώσετε το ζητούμενο αρχείο `schedule-data.nt` της εργασίας του μαθήματος. Μην ξεχάσετε να εισάγετε τις τριάδες με το κατηγόρημα `rdf:type`!\n",
    "\n",
    "Προσθέστε τον κώδικά σας στα επόμενα κελιά."
   ]
  },
  {
   "cell_type": "code",
   "execution_count": null,
   "metadata": {
    "collapsed": true
   },
   "outputs": [],
   "source": []
  }
 ],
 "metadata": {
  "kernelspec": {
   "display_name": "Python 3",
   "language": "python",
   "name": "python3"
  },
  "language_info": {
   "codemirror_mode": {
    "name": "ipython",
    "version": 3
   },
   "file_extension": ".py",
   "mimetype": "text/x-python",
   "name": "python",
   "nbconvert_exporter": "python",
   "pygments_lexer": "ipython3",
   "version": "3.4.4"
  }
 },
 "nbformat": 4,
 "nbformat_minor": 0
}
import csv
urilist = []
with open('programa6.csv','r',newline='') as ifp:
    reader = csv.reader(ifp)
    for row in reader:
         urilist.append(row)
print(urilist)
[['_:0', 'http://dilab77.ionio.gr/swp/c17maid/vocab#Ημέρα', 'Δευτέρα'], ['_:0', 'http://dilab77.ionio.gr/swp/c17maid/vocab#Εναρξη', '15:00'], ['_:0', 'http://dilab77.ionio.gr/swp/c17maid/vocab#Λήξη', '18:00'], ['_:0', 'http://dilab77.ionio.gr/swp/c17maid/vocab#Καθηγητής', 'http://dilab77.ionio.gr/swp/c17maid/resource/ΚΟΜΙΑΝΟΣ'], ['_:0', 'http://dilab77.ionio.gr/swp/c17maid/vocab#Μάθημα', 'http://dilab77.ionio.gr/swp/c17maid/resource/ΨΥΧΑΓΩΓΙΚΟ%20ΛΟΓΙΣΜΙΚΟ'], ['_:0', 'http://dilab77.ionio.gr/swp/c17maid/vocab#Αίθουσα', 'http://dilab77.ionio.gr/swp/c17maid/resource/Γαληνός'], ['_:1', 'http://dilab77.ionio.gr/swp/c17maid/vocab#Ημέρα', 'Δευτέρα'], ['_:1', 'http://dilab77.ionio.gr/swp/c17maid/vocab#Εναρξη', '18:00'], ['_:1', 'http://dilab77.ionio.gr/swp/c17maid/vocab#Λήξη', '21:00'], ['_:1', 'http://dilab77.ionio.gr/swp/c17maid/vocab#Καθηγητής', 'http://dilab77.ionio.gr/swp/c17maid/resource/ΤΣΩΧΟΥ'], ['_:1', 'http://dilab77.ionio.gr/swp/c17maid/vocab#Μάθημα', 'http://dilab77.ionio.gr/swp/c17maid/resource/ΑΣΦΑΛΕΙΑ%20ΠΛΗΡΟΦΟΡΙΑΚΩΝ%20ΣΥΣΤΗΜΑΤΩΝ%20'], ['_:1', 'http://dilab77.ionio.gr/swp/c17maid/vocab#Αίθουσα', 'http://dilab77.ionio.gr/swp/c17maid/resource/Γαληνός'], ['_:2', 'http://dilab77.ionio.gr/swp/c17maid/vocab#Ημέρα', 'Τρίτη'], ['_:2', 'http://dilab77.ionio.gr/swp/c17maid/vocab#Εναρξη', '15:00'], ['_:2', 'http://dilab77.ionio.gr/swp/c17maid/vocab#Λήξη', '18:00'], ['_:2', 'http://dilab77.ionio.gr/swp/c17maid/vocab#Καθηγητής', 'http://dilab77.ionio.gr/swp/c17maid/resource/ΣΤΕΦΑΝΙΔΑΚΗΣ'], ['_:2', 'http://dilab77.ionio.gr/swp/c17maid/vocab#Μάθημα', 'http://dilab77.ionio.gr/swp/c17maid/resource/ΠΡΟΓΡΑΜΑΤΙΣΜΟΣ%20ΣΗΜΑΣΙΟΛΟΓΙΚΟΥ%20ΙΣΤΟΥ'], ['_:2', 'http://dilab77.ionio.gr/swp/c17maid/vocab#Αίθουσα', 'http://dilab77.ionio.gr/swp/c17maid/resource/Αρεταίος'], ['_:3', 'http://dilab77.ionio.gr/swp/c17maid/vocab#Ημέρα', 'Τρίτη'], ['_:3', 'http://dilab77.ionio.gr/swp/c17maid/vocab#Εναρξη', '18:00'], ['_:3', 'http://dilab77.ionio.gr/swp/c17maid/vocab#Λήξη', '21:00'], ['_:3', 'http://dilab77.ionio.gr/swp/c17maid/vocab#Καθηγητής', 'http://dilab77.ionio.gr/swp/c17maid/resource/ΒΛΑΜΟΣ'], ['_:3', 'http://dilab77.ionio.gr/swp/c17maid/vocab#Μάθημα', 'http://dilab77.ionio.gr/swp/c17maid/resource/ΒΙΟΠΛΗΡΟΦΟΡΙΚΗ'], ['_:3', 'http://dilab77.ionio.gr/swp/c17maid/vocab#Αίθουσα', 'http://dilab77.ionio.gr/swp/c17maid/resource/Αρεταίος'], ['_:4', 'http://dilab77.ionio.gr/swp/c17maid/vocab#Ημέρα', 'Τετάρτη'], ['_:4', 'http://dilab77.ionio.gr/swp/c17maid/vocab#Εναρξη', '15:00'], ['_:4', 'http://dilab77.ionio.gr/swp/c17maid/vocab#Λήξη', '18:00'], ['_:4', 'http://dilab77.ionio.gr/swp/c17maid/vocab#Καθηγητής', 'http://dilab77.ionio.gr/swp/c17maid/resource/ΠΑΤΕΛΗ'], ['_:4', 'http://dilab77.ionio.gr/swp/c17maid/vocab#Μάθημα', 'http://dilab77.ionio.gr/swp/c17maid/resource/ΗΛΕΚΤΡΟΝΙΚΗ%20ΕΠΙΧΕΙΡΗΜΑΤΙΚΟΤΗΤΑ'], ['_:4', 'http://dilab77.ionio.gr/swp/c17maid/vocab#Αίθουσα', 'http://dilab77.ionio.gr/swp/c17maid/resource/Αρεταίος'], ['_:5', 'http://dilab77.ionio.gr/swp/c17maid/vocab#Ημέρα', 'Τετάρτη'], ['_:5', 'http://dilab77.ionio.gr/swp/c17maid/vocab#Εναρξη', '18:00'], ['_:5', 'http://dilab77.ionio.gr/swp/c17maid/vocab#Λήξη', '21:00'], ['_:5', 'http://dilab77.ionio.gr/swp/c17maid/vocab#Καθηγητής', 'http://dilab77.ionio.gr/swp/c17maid/resource/ΑΥΛΩΝΙΤΗΣ'], ['_:5', 'http://dilab77.ionio.gr/swp/c17maid/vocab#Μάθημα', 'http://dilab77.ionio.gr/swp/c17maid/resource/ΠΡΟΣΟΜΟΙΩΣΗ%20ΚΑΙ%20ΜΟΝΤΕΛΟΠΟΙΗΣΗ'], ['_:5', 'http://dilab77.ionio.gr/swp/c17maid/vocab#Αίθουσα', 'http://dilab77.ionio.gr/swp/c17maid/resource/Γαληνός'], ['_:6', 'http://dilab77.ionio.gr/swp/c17maid/vocab#Ημέρα', 'Πέμπτη'], ['_:6', 'http://dilab77.ionio.gr/swp/c17maid/vocab#Εναρξη', '15:00'], ['_:6', 'http://dilab77.ionio.gr/swp/c17maid/vocab#Λήξη', '18:00'], ['_:6', 'http://dilab77.ionio.gr/swp/c17maid/vocab#Καθηγητής', 'http://dilab77.ionio.gr/swp/c17maid/resource/ΚΕΡΜΑΝΙΔΟΥ'], ['_:6', 'http://dilab77.ionio.gr/swp/c17maid/vocab#Μάθημα', 'http://dilab77.ionio.gr/swp/c17maid/resource/ΕΞΟΡΥΞΗ%20ΔΕΔΟΜΕΝΩΝ'], ['_:6', 'http://dilab77.ionio.gr/swp/c17maid/vocab#Αίθουσα', 'http://dilab77.ionio.gr/swp/c17maid/resource/Γαληνός']]

NTriplesList = []

for s,p,o in urilist :

    if (p == p == 'http://dilab77.ionio.gr/swp/c17maid/vocab#Εναρξη') or (p == 'http://dilab77.ionio.gr/swp/c17maid/vocab#Λήξη') :

        o =  '"' + o + ':00"' + '^^<http://www.w3.org/2001/XMLSchema#time>'

    elif   p == 'http://dilab77.ionio.gr/swp/c17maid/vocab#Ημέρα':

         o = '"' + o + '"'

    elif  (p == p == 'http://dilab77.ionio.gr/swp/c17maid/vocab#Καθηγητής'):

           s = '<http://www.w3.org/1999/02/22-rdf-syntax-ns#type>'

           o='<'+o+'>'

        

    elif (p == 'http://dilab77.ionio.gr/swp/c17maid/vocab#Μάθημα') :

          s = '<http://www.w3.org/1999/02/22-rdf-syntax-ns#type>'

          o='<'+o+'>'

         

    elif (p == 'http://dilab77.ionio.gr/swp/c17maid/vocab#Αίθουσα'):

          s = '<http://www.w3.org/1999/02/22-rdf-syntax-ns#type>'

          o='<'+o+'>'

            

        

    else :

        o = '<' + o + '>'    

    p = '<' + p + '>'

    NTriplesList.append([s,p,o])

    

print(NTriplesList)

​

[['_:0', '<http://dilab77.ionio.gr/swp/c17maid/vocab#Ημέρα>', '"Δευτέρα"'], ['_:0', '<http://dilab77.ionio.gr/swp/c17maid/vocab#Εναρξη>', '"15:00:00"^^<http://www.w3.org/2001/XMLSchema#time>'], ['_:0', '<http://dilab77.ionio.gr/swp/c17maid/vocab#Λήξη>', '"18:00:00"^^<http://www.w3.org/2001/XMLSchema#time>'], ['<http://www.w3.org/1999/02/22-rdf-syntax-ns#type>', '<http://dilab77.ionio.gr/swp/c17maid/vocab#Καθηγητής>', '<http://dilab77.ionio.gr/swp/c17maid/resource/ΚΟΜΙΑΝΟΣ>'], ['<http://www.w3.org/1999/02/22-rdf-syntax-ns#type>', '<http://dilab77.ionio.gr/swp/c17maid/vocab#Μάθημα>', '<http://dilab77.ionio.gr/swp/c17maid/resource/ΨΥΧΑΓΩΓΙΚΟ%20ΛΟΓΙΣΜΙΚΟ>'], ['<http://www.w3.org/1999/02/22-rdf-syntax-ns#type>', '<http://dilab77.ionio.gr/swp/c17maid/vocab#Αίθουσα>', '<http://dilab77.ionio.gr/swp/c17maid/resource/Γαληνός>'], ['_:1', '<http://dilab77.ionio.gr/swp/c17maid/vocab#Ημέρα>', '"Δευτέρα"'], ['_:1', '<http://dilab77.ionio.gr/swp/c17maid/vocab#Εναρξη>', '"18:00:00"^^<http://www.w3.org/2001/XMLSchema#time>'], ['_:1', '<http://dilab77.ionio.gr/swp/c17maid/vocab#Λήξη>', '"21:00:00"^^<http://www.w3.org/2001/XMLSchema#time>'], ['<http://www.w3.org/1999/02/22-rdf-syntax-ns#type>', '<http://dilab77.ionio.gr/swp/c17maid/vocab#Καθηγητής>', '<http://dilab77.ionio.gr/swp/c17maid/resource/ΤΣΩΧΟΥ>'], ['<http://www.w3.org/1999/02/22-rdf-syntax-ns#type>', '<http://dilab77.ionio.gr/swp/c17maid/vocab#Μάθημα>', '<http://dilab77.ionio.gr/swp/c17maid/resource/ΑΣΦΑΛΕΙΑ%20ΠΛΗΡΟΦΟΡΙΑΚΩΝ%20ΣΥΣΤΗΜΑΤΩΝ%20>'], ['<http://www.w3.org/1999/02/22-rdf-syntax-ns#type>', '<http://dilab77.ionio.gr/swp/c17maid/vocab#Αίθουσα>', '<http://dilab77.ionio.gr/swp/c17maid/resource/Γαληνός>'], ['_:2', '<http://dilab77.ionio.gr/swp/c17maid/vocab#Ημέρα>', '"Τρίτη"'], ['_:2', '<http://dilab77.ionio.gr/swp/c17maid/vocab#Εναρξη>', '"15:00:00"^^<http://www.w3.org/2001/XMLSchema#time>'], ['_:2', '<http://dilab77.ionio.gr/swp/c17maid/vocab#Λήξη>', '"18:00:00"^^<http://www.w3.org/2001/XMLSchema#time>'], ['<http://www.w3.org/1999/02/22-rdf-syntax-ns#type>', '<http://dilab77.ionio.gr/swp/c17maid/vocab#Καθηγητής>', '<http://dilab77.ionio.gr/swp/c17maid/resource/ΣΤΕΦΑΝΙΔΑΚΗΣ>'], ['<http://www.w3.org/1999/02/22-rdf-syntax-ns#type>', '<http://dilab77.ionio.gr/swp/c17maid/vocab#Μάθημα>', '<http://dilab77.ionio.gr/swp/c17maid/resource/ΠΡΟΓΡΑΜΑΤΙΣΜΟΣ%20ΣΗΜΑΣΙΟΛΟΓΙΚΟΥ%20ΙΣΤΟΥ>'], ['<http://www.w3.org/1999/02/22-rdf-syntax-ns#type>', '<http://dilab77.ionio.gr/swp/c17maid/vocab#Αίθουσα>', '<http://dilab77.ionio.gr/swp/c17maid/resource/Αρεταίος>'], ['_:3', '<http://dilab77.ionio.gr/swp/c17maid/vocab#Ημέρα>', '"Τρίτη"'], ['_:3', '<http://dilab77.ionio.gr/swp/c17maid/vocab#Εναρξη>', '"18:00:00"^^<http://www.w3.org/2001/XMLSchema#time>'], ['_:3', '<http://dilab77.ionio.gr/swp/c17maid/vocab#Λήξη>', '"21:00:00"^^<http://www.w3.org/2001/XMLSchema#time>'], ['<http://www.w3.org/1999/02/22-rdf-syntax-ns#type>', '<http://dilab77.ionio.gr/swp/c17maid/vocab#Καθηγητής>', '<http://dilab77.ionio.gr/swp/c17maid/resource/ΒΛΑΜΟΣ>'], ['<http://www.w3.org/1999/02/22-rdf-syntax-ns#type>', '<http://dilab77.ionio.gr/swp/c17maid/vocab#Μάθημα>', '<http://dilab77.ionio.gr/swp/c17maid/resource/ΒΙΟΠΛΗΡΟΦΟΡΙΚΗ>'], ['<http://www.w3.org/1999/02/22-rdf-syntax-ns#type>', '<http://dilab77.ionio.gr/swp/c17maid/vocab#Αίθουσα>', '<http://dilab77.ionio.gr/swp/c17maid/resource/Αρεταίος>'], ['_:4', '<http://dilab77.ionio.gr/swp/c17maid/vocab#Ημέρα>', '"Τετάρτη"'], ['_:4', '<http://dilab77.ionio.gr/swp/c17maid/vocab#Εναρξη>', '"15:00:00"^^<http://www.w3.org/2001/XMLSchema#time>'], ['_:4', '<http://dilab77.ionio.gr/swp/c17maid/vocab#Λήξη>', '"18:00:00"^^<http://www.w3.org/2001/XMLSchema#time>'], ['<http://www.w3.org/1999/02/22-rdf-syntax-ns#type>', '<http://dilab77.ionio.gr/swp/c17maid/vocab#Καθηγητής>', '<http://dilab77.ionio.gr/swp/c17maid/resource/ΠΑΤΕΛΗ>'], ['<http://www.w3.org/1999/02/22-rdf-syntax-ns#type>', '<http://dilab77.ionio.gr/swp/c17maid/vocab#Μάθημα>', '<http://dilab77.ionio.gr/swp/c17maid/resource/ΗΛΕΚΤΡΟΝΙΚΗ%20ΕΠΙΧΕΙΡΗΜΑΤΙΚΟΤΗΤΑ>'], ['<http://www.w3.org/1999/02/22-rdf-syntax-ns#type>', '<http://dilab77.ionio.gr/swp/c17maid/vocab#Αίθουσα>', '<http://dilab77.ionio.gr/swp/c17maid/resource/Αρεταίος>'], ['_:5', '<http://dilab77.ionio.gr/swp/c17maid/vocab#Ημέρα>', '"Τετάρτη"'], ['_:5', '<http://dilab77.ionio.gr/swp/c17maid/vocab#Εναρξη>', '"18:00:00"^^<http://www.w3.org/2001/XMLSchema#time>'], ['_:5', '<http://dilab77.ionio.gr/swp/c17maid/vocab#Λήξη>', '"21:00:00"^^<http://www.w3.org/2001/XMLSchema#time>'], ['<http://www.w3.org/1999/02/22-rdf-syntax-ns#type>', '<http://dilab77.ionio.gr/swp/c17maid/vocab#Καθηγητής>', '<http://dilab77.ionio.gr/swp/c17maid/resource/ΑΥΛΩΝΙΤΗΣ>'], ['<http://www.w3.org/1999/02/22-rdf-syntax-ns#type>', '<http://dilab77.ionio.gr/swp/c17maid/vocab#Μάθημα>', '<http://dilab77.ionio.gr/swp/c17maid/resource/ΠΡΟΣΟΜΟΙΩΣΗ%20ΚΑΙ%20ΜΟΝΤΕΛΟΠΟΙΗΣΗ>'], ['<http://www.w3.org/1999/02/22-rdf-syntax-ns#type>', '<http://dilab77.ionio.gr/swp/c17maid/vocab#Αίθουσα>', '<http://dilab77.ionio.gr/swp/c17maid/resource/Γαληνός>'], ['_:6', '<http://dilab77.ionio.gr/swp/c17maid/vocab#Ημέρα>', '"Πέμπτη"'], ['_:6', '<http://dilab77.ionio.gr/swp/c17maid/vocab#Εναρξη>', '"15:00:00"^^<http://www.w3.org/2001/XMLSchema#time>'], ['_:6', '<http://dilab77.ionio.gr/swp/c17maid/vocab#Λήξη>', '"18:00:00"^^<http://www.w3.org/2001/XMLSchema#time>'], ['<http://www.w3.org/1999/02/22-rdf-syntax-ns#type>', '<http://dilab77.ionio.gr/swp/c17maid/vocab#Καθηγητής>', '<http://dilab77.ionio.gr/swp/c17maid/resource/ΚΕΡΜΑΝΙΔΟΥ>'], ['<http://www.w3.org/1999/02/22-rdf-syntax-ns#type>', '<http://dilab77.ionio.gr/swp/c17maid/vocab#Μάθημα>', '<http://dilab77.ionio.gr/swp/c17maid/resource/ΕΞΟΡΥΞΗ%20ΔΕΔΟΜΕΝΩΝ>'], ['<http://www.w3.org/1999/02/22-rdf-syntax-ns#type>', '<http://dilab77.ionio.gr/swp/c17maid/vocab#Αίθουσα>', '<http://dilab77.ionio.gr/swp/c17maid/resource/Γαληνός>']]

 with open('schedule.nt','w') as ofp:

    for s,p,o in NTriplesList:

        thisLine  = s +' '+ p +' ' + o + '.'  + '\n'

        ofp.write(thisLine)

!riot --validate schedule.nt

!riot --output=turtle schedule.nt > schedule.ttl
